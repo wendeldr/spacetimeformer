{
 "cells": [
  {
   "cell_type": "code",
   "execution_count": 1,
   "metadata": {},
   "outputs": [],
   "source": [
    "import numpy as np\n",
    "import matplotlib.pyplot as plt\n",
    "\n",
    "import spacetimeformer as stf\n",
    "import pytorch_lightning as pl\n",
    "import numpy as np\n",
    "from scipy.stats import chi2, norm, beta, gamma\n",
    "import matplotlib.pyplot as plt\n",
    "import math\n",
    "import pandas as pd\n",
    "import os\n",
    "\n",
    "import sys\n",
    "from contextlib import contextmanager\n",
    "\n",
    "\n",
    "from collections import defaultdict\n",
    "import re\n",
    "import pickle\n",
    "from tqdm.notebook import tqdm"
   ]
  },
  {
   "cell_type": "code",
   "execution_count": 2,
   "metadata": {},
   "outputs": [],
   "source": [
    "def f_data(config):\n",
    "    m=.5\n",
    "    fs = 2048  # Sampling rate (Hz)\n",
    "    T = 150  # Length of epochs (s)\n",
    "\n",
    "    # Set the seed for reproducibility\n",
    "    np.random.seed(42)\n",
    "\n",
    "    # Define the number of iterations for the simulation\n",
    "    n_iterations = fs * T\n",
    "    # Preallocate the arrays for the x variables\n",
    "    x1 = np.zeros(n_iterations)\n",
    "    x2 = np.zeros(n_iterations)\n",
    "    x3 = np.zeros(n_iterations)\n",
    "    x4 = np.zeros(n_iterations)\n",
    "    x5 = np.zeros(n_iterations)\n",
    "\n",
    "    # Define the rate lambda for the exponential distribution\n",
    "    lambda_rate = 2\n",
    "\n",
    "    # Generate the noise processes e1t, e2t, e3t, e4t, e5t\n",
    "    e1 = np.random.exponential(scale=1 / lambda_rate, size=n_iterations)\n",
    "    e2 = chi2.rvs(df=1, size=n_iterations)\n",
    "    # e1 = norm.rvs(scale=1, size=n_iterations)\n",
    "    # e2 = norm.rvs(scale=1, size=n_iterations)\n",
    "    e3 = norm.rvs(scale=1, size=n_iterations) *m # Gaussian with mean 0, std 1\n",
    "    e4 = norm.rvs(scale=1, size=n_iterations) *m # Gaussian with mean 0, std 1\n",
    "    e5 = norm.rvs(scale=1, size=n_iterations) *m# Gaussian with mean 0, std 1\n",
    "\n",
    "    for t in range(6, n_iterations):\n",
    "        # Generate the x variables based on the given equations\n",
    "        x1[t] = 0.05 * x1[t-5] - 0.15 * x1[t-4] + 0.25 * x1[t-3] - 0.35 * x1[t-2] + 0.45 * x1[t-1] + e1[t]\n",
    "        # x1[t] = e1[t]\n",
    "\n",
    "        x2[t] = - 0.01 * x2[t-6] + .09 * x2[t-5] - 0.2 * x2[t-4] + .27 * x2[t-3] - 0.35 * x2[t-2] + .4 * x2[t-1] + e2[t]\n",
    "        x3[t] = 0.8 * x2[t] + e3[t]\n",
    "        x4[t] = 0.7 * x1[t] * (math.pow(x1[t], 2) - 1) * np.exp((-math.pow(x1[t], 2)) / 2) + e4[t]\n",
    "        x5[t] = 0.3 * x2[t] + 0.05 * math.pow(x2[t], 2) + e5[t]\n",
    "\n",
    "    # After the loop, x1t, x2t, x3t, x4t, and x5t contain the simulation data.\n",
    "\n",
    "    PLOT_VAR_NAMES = np.arange(5) + 1\n",
    "    PLOT_VAR_IDXS = np.arange(5)\n",
    "\n",
    "    data = np.array([x1, x2, x3, x4, x5]).T\n",
    "    data= data[100:]\n",
    "    df = pd.DataFrame(data, columns=PLOT_VAR_NAMES)\n",
    "\n",
    "    df[\"Datetime\"] = pd.date_range(start=\"1/1/2020\", periods=df.shape[0], freq=\"s\")\n",
    "\n",
    "    dset = stf.data.CSVTimeSeries(\n",
    "        data_path=None,\n",
    "        raw_df=df,\n",
    "        val_split=0.1,\n",
    "        test_split=0.1,\n",
    "        normalize=True,\n",
    "        time_col_name=\"Datetime\",\n",
    "        time_features=[\"hour\", 'minute', 'second'],\n",
    "    )\n",
    "    yc_dim = data.shape[1]\n",
    "    yt_dim = data.shape[1]\n",
    "    x_dim = dset.time_cols.shape[0]\n",
    "\n",
    "    DATA_MODULE = stf.data.DataModule(\n",
    "        datasetCls=stf.data.CSVTorchDset,\n",
    "        dataset_kwargs={\n",
    "            \"csv_time_series\": dset,\n",
    "            \"context_points\": config['context_points'],\n",
    "            \"target_points\": config['target_points'],\n",
    "            \"time_resolution\": config['time_resolution'],\n",
    "        },\n",
    "        batch_size=config['batch_size'],\n",
    "        workers=config['workers'],\n",
    "        overfit=False,\n",
    "    )\n",
    "    INV_SCALER = dset.reverse_scaling\n",
    "    SCALER = dset.apply_scaling\n",
    "    NULL_VAL = None\n",
    "    return DATA_MODULE"
   ]
  },
  {
   "cell_type": "code",
   "execution_count": 3,
   "metadata": {},
   "outputs": [
    {
     "name": "stderr",
     "output_type": "stream",
     "text": [
      "/home/wendeldr/miniconda3/envs/spacetimeformer/lib/python3.8/site-packages/pytorch_lightning/trainer/connectors/accelerator_connector.py:287: LightningDeprecationWarning: Passing `Trainer(accelerator='dp')` has been deprecated in v1.5 and will be removed in v1.7. Use `Trainer(strategy='dp')` instead.\n",
      "  rank_zero_deprecation(\n",
      "GPU available: True, used: True\n",
      "TPU available: False, using: 0 TPU cores\n",
      "IPU available: False, using: 0 IPUs\n",
      "HPU available: False, using: 0 HPUs\n",
      "`Trainer(limit_val_batches=1.0)` was configured so 100% of the batches will be used..\n",
      "`Trainer(val_check_interval=1.0)` was configured so validation will run at the end of the training epoch..\n"
     ]
    }
   ],
   "source": [
    "default_config = {\n",
    "    # fixed but maybe change...\n",
    "    'batch_size': 2000,\n",
    "    'workers': 6,\n",
    "    'init_lr': 1e-10,\n",
    "    'base_lr': 0.0005,\n",
    "    'context_points': 32,\n",
    "    'target_points': 1,\n",
    "    'd_model': 100,\n",
    "    'd_qk': 100,\n",
    "    'd_v': 100,\n",
    "    'd_ff': 400,\n",
    "    'n_heads': 1,\n",
    "    'enc_layers': 1,\n",
    "    'dec_layers': 1,\n",
    "    'global_self_attn': 'full',\n",
    "    'local_self_attn': 'full',\n",
    "    'global_cross_attn': 'full',\n",
    "    'local_cross_attn': 'full',\n",
    "    'no_val': False,\n",
    "    'no_time': False,\n",
    "    'no_space': False,\n",
    "    'no_given': False,\n",
    "\n",
    "    # directly set parameters\n",
    "    'gpus': [0],\n",
    "    # 'gpus':None,\n",
    "    'strategy': 'dp',\n",
    "    \"time_resolution\": 1,\n",
    "    \"start_token_len\": 0,\n",
    "    \"attn_factor\": 5,\n",
    "    \"dropout_emb\": 0.2,\n",
    "    \"dropout_attn_out\": 0,\n",
    "    \"dropout_attn_matrix\": 0,\n",
    "    \"dropout_qkv\": 0,\n",
    "    \"dropout_ff\": 0.3,\n",
    "    \"pos_emb_type\": 'abs',\n",
    "    \"no_final_norm\": False,\n",
    "    \"performer_kernel\": 'relu',\n",
    "    \"performer_redraw_interval\": 100,\n",
    "    \"attn_time_windows\": 1,\n",
    "    \"use_shifted_time_windows\": False,\n",
    "    \"norm\": 'batch',\n",
    "    \"activation\": 'gelu',\n",
    "    \"warmup_steps\": 0,\n",
    "    \"decay_factor\": 0.25,\n",
    "    \"initial_downsample_convs\": 0,\n",
    "    \"intermediate_downsample_convs\": 0,\n",
    "    \"embed_method\": 'spatio-temporal',\n",
    "    \"l2_coeff\": 0.000001,\n",
    "    \"loss\": 'mse',\n",
    "    \"class_loss_imp\": 0.1,\n",
    "    \"recon_loss_imp\": 0,\n",
    "    \"time_emb_dim\": 3,\n",
    "    \"null_value\": None,\n",
    "    \"pad_value\": None,\n",
    "    \"linear_window\": 0,\n",
    "    \"use_revin\": False,\n",
    "    \"linear_shared_weights\": False,\n",
    "    \"use_seasonal_decomp\": False,\n",
    "    \"recon_mask_skip_all\": 1,\n",
    "    \"recon_mask_max_seq_len\": 5,\n",
    "    \"recon_mask_drop_seq\": 0.2,\n",
    "    \"recon_mask_drop_standard\": 0.1,\n",
    "    \"recon_mask_drop_full\": 0.05,\n",
    "    \"grad_clip_norm\": 0.0,\n",
    "    \"accumulate\": 1,\n",
    "    \"limit_val_batches\": 1.0,\n",
    "    \"max_epochs\": 10,\n",
    "    \"val_check_interval\": 1.0,\n",
    "}\n",
    "\n",
    "def create_model(config, x_dim, yc_dim, yt_dim):\n",
    "    max_seq_len = config['context_points'] + config['target_points']\n",
    "\n",
    "    forecaster = stf.spacetimeformer_model.Spacetimeformer_Forecaster(\n",
    "        d_x=x_dim,\n",
    "        d_yc=yc_dim,\n",
    "        d_yt=yt_dim,\n",
    "        max_seq_len=max_seq_len,\n",
    "        start_token_len=config['start_token_len'],\n",
    "        attn_factor=config['attn_factor'],\n",
    "        d_model=config['d_model'],\n",
    "        d_queries_keys=config['d_qk'],\n",
    "        d_values=config['d_v'],\n",
    "        n_heads=config['n_heads'],\n",
    "        e_layers=config['enc_layers'],\n",
    "        d_layers=config['dec_layers'],\n",
    "        d_ff=config['d_ff'],\n",
    "        dropout_emb=config['dropout_emb'],\n",
    "        dropout_attn_out=config['dropout_attn_out'],\n",
    "        dropout_attn_matrix=config['dropout_attn_matrix'],\n",
    "        dropout_qkv=config['dropout_qkv'],\n",
    "        dropout_ff=config['dropout_ff'],\n",
    "        pos_emb_type=config['pos_emb_type'],\n",
    "        use_final_norm=not config['no_final_norm'],\n",
    "        global_self_attn=config['global_self_attn'],\n",
    "        local_self_attn=config['local_self_attn'],\n",
    "        global_cross_attn=config['global_cross_attn'],\n",
    "        local_cross_attn=config['local_cross_attn'],\n",
    "        performer_kernel=config['performer_kernel'],\n",
    "        performer_redraw_interval=config['performer_redraw_interval'],\n",
    "        attn_time_windows=config['attn_time_windows'],\n",
    "        use_shifted_time_windows=config['use_shifted_time_windows'],\n",
    "        norm=config['norm'],\n",
    "        activation=config['activation'],\n",
    "        init_lr=config['init_lr'],\n",
    "        base_lr=config['base_lr'],\n",
    "        warmup_steps=config['warmup_steps'],\n",
    "        decay_factor=config['decay_factor'],\n",
    "        initial_downsample_convs=config['initial_downsample_convs'],\n",
    "        intermediate_downsample_convs=config['intermediate_downsample_convs'],\n",
    "        embed_method=config['embed_method'],\n",
    "        l2_coeff=config['l2_coeff'],\n",
    "        loss=config['loss'],\n",
    "        class_loss_imp=config['class_loss_imp'],\n",
    "        recon_loss_imp=config['recon_loss_imp'],\n",
    "        time_emb_dim=config['time_emb_dim'],\n",
    "        null_value=config['null_value'],\n",
    "        pad_value=config['pad_value'],\n",
    "        linear_window=config['linear_window'],\n",
    "        use_revin=config['use_revin'],\n",
    "        linear_shared_weights=config['linear_shared_weights'],\n",
    "        use_seasonal_decomp=config['use_seasonal_decomp'],\n",
    "        use_val=not config['no_val'],\n",
    "        use_time=not config['no_time'],\n",
    "        use_space=not config['no_space'],\n",
    "        use_given=not config['no_given'],\n",
    "        recon_mask_skip_all=config['recon_mask_skip_all'],\n",
    "        recon_mask_max_seq_len=config['recon_mask_max_seq_len'],\n",
    "        recon_mask_drop_seq=config['recon_mask_drop_seq'],\n",
    "        recon_mask_drop_standard=config['recon_mask_drop_standard'],\n",
    "        recon_mask_drop_full=config['recon_mask_drop_full'],\n",
    "        verbose=False,\n",
    "    )\n",
    "    return forecaster\n",
    "\n",
    "def s1_data(config, m=1, use_autoregressive=False):\n",
    "    fs = 2048  # Sampling rate (Hz)\n",
    "    T = 150  # Length of epochs (s)\n",
    "\n",
    "    # Set the seed for reproducibility\n",
    "    np.random.seed(42)\n",
    "\n",
    "    # Define the number of iterations for the simulation\n",
    "    n_iterations = fs * T\n",
    "    # Preallocate the arrays for the x variables\n",
    "    x1 = np.zeros(n_iterations)\n",
    "    x2 = np.zeros(n_iterations)\n",
    "    x3 = np.zeros(n_iterations)\n",
    "    x4 = np.zeros(n_iterations)\n",
    "    x5 = np.zeros(n_iterations)\n",
    "\n",
    "    # Define the rate lambda for the exponential distribution\n",
    "    lambda_rate = 2\n",
    "\n",
    "    # Generate the noise processes e1t, e2t, e3t, e4t, e5t\n",
    "    if use_autoregressive:\n",
    "        e1 = norm.rvs(scale=1, size=n_iterations)\n",
    "        e2 = norm.rvs(scale=1, size=n_iterations)\n",
    "    else:\n",
    "        e1 = np.random.exponential(scale=1 / lambda_rate, size=n_iterations)\n",
    "        e2 = chi2.rvs(df=1, size=n_iterations)\n",
    "    e3 = norm.rvs(scale=1, size=n_iterations) *m # Gaussian with mean 0, std 1\n",
    "    e4 = norm.rvs(scale=1, size=n_iterations) *m # Gaussian with mean 0, std 1\n",
    "    e5 = norm.rvs(scale=1, size=n_iterations) *m# Gaussian with mean 0, std 1\n",
    "\n",
    "    if use_autoregressive:\n",
    "        start=6\n",
    "    else:\n",
    "        start=0            \n",
    "\n",
    "    for t in range(start, n_iterations):\n",
    "        # Generate the x variables based on the given equations\n",
    "        if use_autoregressive:\n",
    "            # Generate the x variables based on the given equations\n",
    "            x1[t] = 0.05 * x1[t-5] - 0.15 * x1[t-4] + 0.25 * x1[t-3] - 0.35 * x1[t-2] + 0.45 * x1[t-1] + e1[t]\n",
    "            x2[t] = - 0.25 * x2[t-2] + .5 * x2[t-1] + e2[t]\n",
    "        else:\n",
    "            x1[t] = e1[t]\n",
    "            x2[t] = e2[t]\n",
    "        x3[t] = 0.8 * x2[t] + e3[t]\n",
    "        x4[t] = 0.7 * x1[t] * (math.pow(x1[t], 2) - 1) * np.exp((-math.pow(x1[t], 2)) / 2) + e4[t]\n",
    "        x5[t] = 0.3 * x2[t] + 0.05 * math.pow(x2[t], 2) + e5[t]\n",
    "\n",
    "    # After the loop, x1t, x2t, x3t, x4t, and x5t contain the simulation data.\n",
    "\n",
    "    PLOT_VAR_NAMES = np.arange(5) + 1\n",
    "    PLOT_VAR_IDXS = np.arange(5)\n",
    "\n",
    "    data = np.array([x1, x2, x3, x4, x5]).T\n",
    "\n",
    "    df = pd.DataFrame(data, columns=PLOT_VAR_NAMES)\n",
    "    df[\"Datetime\"] = pd.date_range(start=\"1/1/2020\", periods=df.shape[0], freq=\"ms\")\n",
    "\n",
    "    dset = stf.data.CSVTimeSeries(\n",
    "        data_path=None,\n",
    "        raw_df=df,\n",
    "        val_split=0.1,\n",
    "        test_split=0.1,\n",
    "        normalize=True,\n",
    "        time_col_name=\"Datetime\",\n",
    "        time_features=[\"minute\", 'second', 'millisecond'],\n",
    "    )\n",
    "    yc_dim = data.shape[1]\n",
    "    yt_dim = data.shape[1]\n",
    "    x_dim = dset.time_cols.shape[0]\n",
    "\n",
    "    DATA_MODULE = stf.data.DataModule(\n",
    "        datasetCls=stf.data.CSVTorchDset,\n",
    "        dataset_kwargs={\n",
    "            \"csv_time_series\": dset,\n",
    "            \"context_points\": config['context_points'],\n",
    "            \"target_points\": config['target_points'],\n",
    "            \"time_resolution\": config['time_resolution'],\n",
    "        },\n",
    "        batch_size=config['batch_size'],\n",
    "        workers=config['workers'],\n",
    "        overfit=False,\n",
    "    )\n",
    "    INV_SCALER = dset.reverse_scaling\n",
    "    SCALER = dset.apply_scaling\n",
    "    NULL_VAL = None\n",
    "    return DATA_MODULE\n",
    "\n",
    "def s2_data(config):\n",
    "    fs = 2048  # Sampling rate (Hz)\n",
    "    T = 150  # Length of epochs (s)\n",
    "\n",
    "    # Set the seed for reproducibility\n",
    "    np.random.seed(0)\n",
    "\n",
    "    # Define the number of iterations for the simulation\n",
    "    n_iterations = fs * T\n",
    "\n",
    "    # Preallocate the arrays for the x variables\n",
    "    x1 = np.zeros(n_iterations)\n",
    "    x2 = np.zeros(n_iterations)\n",
    "    x3 = np.zeros(n_iterations)\n",
    "    x4 = np.zeros(n_iterations)\n",
    "    x5 = np.zeros(n_iterations)\n",
    "\n",
    "    # Define the rate lambda for the exponential distribution\n",
    "    lambda_rate = 2\n",
    "\n",
    "    # Generate the noise processes e1t, e2t, e3t, e4t, e5t\n",
    "    e1 = norm.rvs(scale=1, size=n_iterations)  # Gaussian with mean 0, std 1\n",
    "    e2 = np.random.exponential(scale=1 / lambda_rate, size=n_iterations)\n",
    "    e3 = beta.rvs(a=1, b=2, size=n_iterations)\n",
    "    e4 = beta.rvs(a=2, b=1, size=n_iterations)\n",
    "    e5 = norm.rvs(scale=1, size=n_iterations)  # Gaussian with mean 0, std 1\n",
    "\n",
    "    for t in range(3, n_iterations):\n",
    "        # Generate the x variables based on the given equations\n",
    "        x1[t] = 0.7 * x1[t - 1] + e1[t]\n",
    "        x2[t] = 0.3 * np.power(x1[t - 2], 2) + e2[t]\n",
    "        x3[t] = 0.4 * x1[t - 3] - 0.3 * x3[t - 2] + e3[t]\n",
    "        x4[t] = 0.7 * x4[t - 1] - 0.3 * x5[t - 1] * np.exp((-math.pow(x5[t - 1], 2)) / 2) + e4[t]\n",
    "        x5[t] = 0.5 * x4[t - 1] + 0.2 * x5[t - 2] + e5[t]\n",
    "\n",
    "    data = np.array([x1, x2, x3, x4, x5]).T\n",
    "    PLOT_VAR_NAMES = np.arange(5) + 1\n",
    "    PLOT_VAR_IDXS = np.arange(5)\n",
    "    df = pd.DataFrame(data, columns=PLOT_VAR_NAMES)\n",
    "    df[\"Datetime\"] = pd.date_range(start=\"1/1/2020\", periods=df.shape[0], freq=\"ms\")\n",
    "\n",
    "    dset = stf.data.CSVTimeSeries(\n",
    "        data_path=None,\n",
    "        raw_df=df,\n",
    "        val_split=0.2,\n",
    "        test_split=0.2,\n",
    "        normalize=True,\n",
    "        time_col_name=\"Datetime\",\n",
    "        time_features=[\"minute\", 'second', 'millisecond'],\n",
    "    )\n",
    "    yc_dim = data.shape[1]\n",
    "    yt_dim = data.shape[1]\n",
    "    x_dim = dset.time_cols.shape[0]\n",
    "\n",
    "    DATA_MODULE = stf.data.DataModule(\n",
    "        datasetCls=stf.data.CSVTorchDset,\n",
    "        dataset_kwargs={\n",
    "            \"csv_time_series\": dset,\n",
    "            \"context_points\": config['context_points'],\n",
    "            \"target_points\": config['target_points'],\n",
    "            \"time_resolution\": config['time_resolution'],\n",
    "        },\n",
    "        batch_size=config['batch_size'],\n",
    "        workers=config['workers'],\n",
    "        overfit=False,\n",
    "    )\n",
    "\n",
    "    return DATA_MODULE\n",
    "\n",
    "trainer = pl.Trainer(\n",
    "        gpus=default_config['gpus'],\n",
    "        callbacks=[],\n",
    "\n",
    "        accelerator=\"dp\",\n",
    "        gradient_clip_val=default_config['grad_clip_norm'],\n",
    "        gradient_clip_algorithm=\"norm\",\n",
    "        overfit_batches= 0,\n",
    "        accumulate_grad_batches=default_config['accumulate'],\n",
    "        sync_batchnorm=False,\n",
    "        limit_val_batches=default_config['limit_val_batches'],\n",
    "        max_epochs=default_config['max_epochs'],\n",
    "        log_every_n_steps=1,\n",
    "        val_check_interval = default_config['val_check_interval'],\n",
    "    )\n"
   ]
  },
  {
   "cell_type": "code",
   "execution_count": 4,
   "metadata": {},
   "outputs": [],
   "source": [
    "def get_sub_matrices(A, Q, indices):\n",
    "    sub_matrices = []\n",
    "    M = A.shape[0]  # Assuming A is a numpy array and square\n",
    "\n",
    "    for idx in indices:\n",
    "        i, j = idx\n",
    "        if i*Q < M and j*Q < M:  # Check if indices are valid\n",
    "            sub_matrix = A[i*Q:(i+1)*Q, j*Q:(j+1)*Q]\n",
    "            sub_matrices.append(sub_matrix)\n",
    "        else:\n",
    "            sub_matrices.append(None)  # Or handle invalid index differently\n",
    "\n",
    "    return sub_matrices\n",
    "\n",
    "def insert_dividers(matrix, context_points, divider_width=1):\n",
    "    total_rows, total_cols = matrix.shape\n",
    "\n",
    "    # Insert row dividers\n",
    "    insert_positions = np.arange(context_points, total_rows, context_points)\n",
    "    insert_positions = np.repeat(insert_positions,\n",
    "                                    divider_width)  # repeat the insert positions for each row divider\n",
    "    matrix = np.insert(matrix, insert_positions, np.nan, axis=0)\n",
    "\n",
    "    # Update total_rows and total_cols after row dividers insertion\n",
    "    total_rows, total_cols = matrix.shape\n",
    "\n",
    "    # Insert column dividers\n",
    "    insert_positions = np.arange(context_points, total_cols, context_points)\n",
    "    insert_positions = np.repeat(insert_positions,\n",
    "                                    divider_width)  # repeat the insert positions for each column divider\n",
    "    matrix = np.insert(matrix, insert_positions, np.nan, axis=1)\n",
    "\n",
    "    return matrix\n",
    "\n",
    "def calculate_tick_positions(matrix_size, context_points, divider_width):\n",
    "    positions = np.arange(0, matrix_size, context_points + divider_width)\n",
    "    adjusted_positions = positions + (context_points + divider_width) // 2 - divider_width\n",
    "    return adjusted_positions  # Exclude the last position which is beyond the matrix\n",
    "\n",
    "def reorder_attention_matrix(attention, current_order, target_order, context_points):\n",
    "    \"\"\"Reorder the attention matrix based on the target electrode order, considering sub-squares.\"\"\"\n",
    "    num_electrodes = len(current_order)\n",
    "    reordered_attention = np.zeros_like(attention)\n",
    "\n",
    "    # Create a mapping from electrode names to their indices\n",
    "    current_indices = {electrode: i for i, electrode in enumerate(current_order)}\n",
    "    target_indices = [current_indices[electrode] for electrode in target_order]\n",
    "\n",
    "    # Reorder sub-squares in the attention matrix\n",
    "    for i, target_idx in enumerate(target_indices):\n",
    "        for j, target_jdx in enumerate(target_indices):\n",
    "            source_i, source_j = int(target_idx * context_points), int(target_jdx * context_points)\n",
    "            dest_i, dest_j = int(i * context_points), int(j * context_points)\n",
    "            reordered_attention[dest_i:dest_i + context_points, dest_j:dest_j + context_points] =  attention[source_i:source_i + context_points, source_j:source_j + context_points]\n",
    "\n",
    "    return reordered_attention\n",
    "\n",
    "def combined_plot(attention_matrices, electrode_names, plot_titles, context_points, maxval=0.05, same_order=False, put_text=False, plot_size=(20, 10)):\n",
    "    if same_order and len(attention_matrices) > 1 and len(electrode_names) > 1:\n",
    "        attention_matrices[1] = reorder_attention_matrix(attention_matrices[1], electrode_names[1], electrode_names[0], context_points)\n",
    "        electrode_names[1] = electrode_names[0]\n",
    "        \n",
    "    nrows = 1\n",
    "    ncols = len(attention_matrices)\n",
    "    fig, ax = plt.subplots(figsize=plot_size, dpi=100, nrows=nrows, ncols=ncols)\n",
    "    \n",
    "    # make sure ax is iterable\n",
    "    if not isinstance(ax, np.ndarray):\n",
    "        ax = np.array([ax])\n",
    "\n",
    "    for i, attention in enumerate(attention_matrices):\n",
    "        attention_with_dividers = insert_dividers(attention, context_points)\n",
    "        tick_positions = calculate_tick_positions(attention_with_dividers.shape[0], context_points, 1)\n",
    "\n",
    "        ax[i].set_xticks(tick_positions)\n",
    "        ax[i].set_yticks(tick_positions)\n",
    "        ax[i].set_xticklabels(electrode_names[i], rotation=90)\n",
    "        ax[i].set_yticklabels(electrode_names[i])\n",
    "        ax[i].xaxis.tick_top()\n",
    "\n",
    "        ax[i].imshow(attention_with_dividers, cmap='nipy_spectral', interpolation='none', vmin=0, vmax=maxval)\n",
    "\n",
    "        ax[i].set_title(plot_titles[i])\n",
    "\n",
    "        if put_text:\n",
    "            # put text of values into each cell\n",
    "            for x in range(attention_with_dividers.shape[0]):\n",
    "                for y in range(attention_with_dividers.shape[1]):\n",
    "                    if not np.isnan(attention_with_dividers[x, y]):\n",
    "                        ax[i].text(y, x, '{:.2f}'.format(attention_with_dividers[x, y]),\n",
    "                                horizontalalignment='center',\n",
    "                                verticalalignment='center',\n",
    "                                color='white', fontsize=6)\n",
    "\n",
    "    # Adjust layout for colorbar\n",
    "    plt.subplots_adjust(bottom=0.15)\n",
    "    cbar_ax = fig.add_axes([0.15, 0.05, 0.7, 0.05])  # Adjust as needed\n",
    "    fig.colorbar(ax[0].images[0], cax=cbar_ax, orientation='horizontal')\n",
    "    ax[0].set_ylabel('Electrode')\n",
    "\n",
    "    return fig, ax\n",
    "    # return attention_matrices[0], attention_matrices[1]\n",
    "\n",
    "def blow_up(matrix, N):\n",
    "    # Repeat each element in each row N times\n",
    "    repeated_rows = np.repeat(matrix, N, axis=1)\n",
    "    # Repeat each row N times\n",
    "    blown_up_matrix = np.repeat(repeated_rows, N, axis=0)\n",
    "    return blown_up_matrix\n",
    "\n",
    "\n",
    "@contextmanager\n",
    "def suppress_stdout():\n",
    "    original_stdout = sys.stdout  # Save the original stdout\n",
    "    try:\n",
    "        sys.stdout = SuppressOutput()  # Suppress printing\n",
    "        yield\n",
    "    finally:\n",
    "        sys.stdout = original_stdout  # Restore the original stdout\n",
    "\n",
    "class SuppressOutput:\n",
    "    def write(self, _):\n",
    "        pass\n",
    "    def flush(self):\n",
    "        pass \n",
    "\n",
    "\n",
    "# subgroups\n",
    "# each filename in a group has either _m*epoch where * is a number or no _m* just _epoch (in this case the number is 1)\n",
    "# subgroup based on the * number\n",
    "def subgroup_files(groups):\n",
    "    subgroups = {}\n",
    "    m_value_pattern = re.compile(r'_m([\\d.]+)')  # Pattern to find the m-value\n",
    "\n",
    "    for group, filenames in groups.items():\n",
    "        if group not in subgroups:\n",
    "            subgroups[group] = {}\n",
    "        for filename in filenames:\n",
    "            # Extract m-value; default to 1 if not found\n",
    "            match = m_value_pattern.search(filename)\n",
    "            m_value = match.group(1) if match else '1'\n",
    "            if m_value not in subgroups[group]:\n",
    "                subgroups[group][m_value] = []\n",
    "            subgroups[group][m_value].append(filename)\n",
    "            \n",
    "    return subgroups\n",
    "\n",
    "# load run function, returns attn and mse if path is valid else returns None\n",
    "def load_run(output_path):\n",
    "    if os.path.exists(output_path):\n",
    "        with open(output_path, \"rb\") as f:\n",
    "            attn, mse = pickle.load(f)\n",
    "        return attn, mse\n",
    "    else:\n",
    "        return None\n",
    "\n",
    "# for each subgroup and m-value, load the model and calculate the attention matrix. return the matrix \n",
    "def run(path,model,output_basepath, use_autoregressive=False,fdata=False):\n",
    "\n",
    "    # extract m-value from the path\n",
    "    m_value_pattern = re.compile(r'_m([\\d.]+)')  # Pattern to find the m-value\n",
    "    match = m_value_pattern.search(path)\n",
    "    m_value = match.group(1) if match else '1'\n",
    "\n",
    "\n",
    "    # check if path exists and if it does load/return the attention matrix\n",
    "    # path to pass is outputpath+containing_folder+basename with extention stripped of the path variable\n",
    "    folder = os.path.basename(os.path.dirname(path))\n",
    "    output_path = os.path.join(output_basepath, f'{folder}~{os.path.basename(path).split(\".\")[0] + \".pkl\"}')\n",
    "\n",
    "    attn_mse = load_run(output_path)\n",
    "    if attn_mse is not None:\n",
    "        return attn_mse\n",
    "    \n",
    "    if fdata:\n",
    "        data_module = f_data(default_config)\n",
    "    else:\n",
    "        data_module = s1_data(default_config, m=float(m_value), use_autoregressive=use_autoregressive)\n",
    "\n",
    "    with suppress_stdout():\n",
    "        s1 = model.load_from_checkpoint(path)\n",
    "    s1.to(\"cuda\")\n",
    "\n",
    "    # get the attention matrixs for a batch of data\n",
    "    test_samples = next(iter(data_module.test_dataloader()))\n",
    "    xc, yc, xt, y_true = test_samples\n",
    "    yt_pred, attn = s1.predict(xc, yc, xt, scale_input=False, scale_output=False, output_attention_mat=True)\n",
    "    attn = attn[0].detach().cpu().numpy()\n",
    "\n",
    "    # get error\n",
    "    yt_pred = yt_pred.detach().cpu().numpy()\n",
    "    yt_pred = yt_pred.reshape(-1, 5)\n",
    "    truth = y_true.detach().cpu().numpy()\n",
    "\n",
    "    mse = stf.eval_stats.mse(truth, yt_pred)\n",
    "\n",
    "    # save the attention matrix and the mse as a pickle file\n",
    "    with open(output_path, \"wb\") as f:\n",
    "        pickle.dump((attn, mse), f)\n",
    "    return attn, mse\n"
   ]
  },
  {
   "cell_type": "code",
   "execution_count": 5,
   "metadata": {},
   "outputs": [],
   "source": [
    "# scan folder and subfolders for .ckpt files\n",
    "base_path = \"~/git/spacetimeformer/spacetimeformer/data/STF_LOG_DIR/\"\n",
    "base_path = os.path.expanduser(base_path)\n",
    "ckpt_files = []\n",
    "for root, dirs, files in os.walk(base_path):\n",
    "    for file in files:\n",
    "        if file.endswith(\".ckpt\"):\n",
    "            ckpt_files.append(os.path.join(root, file))\n",
    "\n",
    "# drop \"EDF_\" containing checkpoints\n",
    "ckpt_files = [f for f in ckpt_files if \"EDF_\" not in f]\n",
    "# drop \"S2_\" containing checkpoints\n",
    "ckpt_files = [f for f in ckpt_files if \"/S2_\" not in f]\n",
    "\n",
    "# drop \"L_\" containing checkpoints\n",
    "ckpt_files = [f for f in ckpt_files if \"/L_\" not in f]\n",
    "\n",
    "# drop specific files:\n",
    "drops = ['/home/wendeldr/git/spacetimeformer/spacetimeformer/data/STF_LOG_DIR/E_S1_1_m0_d4960e04/E_S1_1_m0epoch=49.ckpt',\n",
    "'/home/wendeldr/git/spacetimeformer/spacetimeformer/data/STF_LOG_DIR/E_S1_m0_d4c55452/E_S1_m0epoch=49.ckpt']\n",
    "ckpt_files = [f for f in ckpt_files if f not in drops]\n",
    "\n",
    "# sort into groups. check the first 2 characters of the file name\n",
    "# all groups start with a letter followed by an underscore; otherwise they are in group 'R' for remaining\n",
    "\n",
    "# get unique first characters:\n",
    "first_chars = list(set([os.path.basename(f).split('_')[0] for f in ckpt_files]))\n",
    "# disregard any chacters that are more then 1 character long:\n",
    "first_chars = [f for f in first_chars if len(f) == 1]\n",
    "groups = {}\n",
    "for f in first_chars:\n",
    "    files = [file for file in ckpt_files if os.path.basename(file).split('_')[0] == f]\n",
    "    groups.update({f: files})\n",
    "remaining = [file for file in ckpt_files if os.path.basename(file).split('_')[0] not in first_chars]\n",
    "# dictionary to hold the groups\n",
    "groups.update({\"R\": remaining})\n",
    "\n",
    "subgroups = subgroup_files(groups)\n"
   ]
  },
  {
   "cell_type": "code",
   "execution_count": 6,
   "metadata": {},
   "outputs": [
    {
     "data": {
      "text/plain": [
       "{'C': {'0': ['/home/wendeldr/git/spacetimeformer/spacetimeformer/data/STF_LOG_DIR/C_S1_2_m0_ec4be00e/C_S1_2_m0epoch=12.ckpt',\n",
       "   '/home/wendeldr/git/spacetimeformer/spacetimeformer/data/STF_LOG_DIR/C_S1_m0_df109af8/C_S1_m0epoch=00.ckpt',\n",
       "   '/home/wendeldr/git/spacetimeformer/spacetimeformer/data/STF_LOG_DIR/C_S1_1_m0_81e9f136/C_S1_1_m0epoch=01.ckpt']},\n",
       " 'D': {'0': ['/home/wendeldr/git/spacetimeformer/spacetimeformer/data/STF_LOG_DIR/D_S1_m0_98c44f1a/D_S1_m0epoch=03.ckpt',\n",
       "   '/home/wendeldr/git/spacetimeformer/spacetimeformer/data/STF_LOG_DIR/D_S1_m0_4b2fb0f2/D_S1_m0epoch=08.ckpt',\n",
       "   '/home/wendeldr/git/spacetimeformer/spacetimeformer/data/STF_LOG_DIR/D_S1_1_m0_4b3e32da/D_S1_1_m0epoch=08.ckpt',\n",
       "   '/home/wendeldr/git/spacetimeformer/spacetimeformer/data/STF_LOG_DIR/D_S1_1_m0_d8d168dc/D_S1_1_m0epoch=00.ckpt',\n",
       "   '/home/wendeldr/git/spacetimeformer/spacetimeformer/data/STF_LOG_DIR/D_S1_2_m0_4b386e36/D_S1_2_m0epoch=08.ckpt']},\n",
       " 'B': {'0': ['/home/wendeldr/git/spacetimeformer/spacetimeformer/data/STF_LOG_DIR/B_S1_m0_4adccd9c/B_S1_m0epoch=03.ckpt',\n",
       "   '/home/wendeldr/git/spacetimeformer/spacetimeformer/data/STF_LOG_DIR/B_S1_2_m0_905633d8/B_S1_2_m0epoch=01.ckpt',\n",
       "   '/home/wendeldr/git/spacetimeformer/spacetimeformer/data/STF_LOG_DIR/B_S1_1_m0_2e728b88/B_S1_1_m0epoch=01.ckpt']},\n",
       " 'E': {'0.0001': ['/home/wendeldr/git/spacetimeformer/spacetimeformer/data/STF_LOG_DIR/E_S1_1_m0.0001_20dab9d2/E_S1_1_m0.0001epoch=49.ckpt',\n",
       "   '/home/wendeldr/git/spacetimeformer/spacetimeformer/data/STF_LOG_DIR/E_S1_m0.0001_1ad382f8/E_S1_m0.0001epoch=46.ckpt',\n",
       "   '/home/wendeldr/git/spacetimeformer/spacetimeformer/data/STF_LOG_DIR/E_S1_1_m0.0001_d4941dc4/E_S1_1_m0.0001epoch=49.ckpt'],\n",
       "  '1': ['/home/wendeldr/git/spacetimeformer/spacetimeformer/data/STF_LOG_DIR/E_S1_m1_0d45837a/E_S1_m1epoch=47.ckpt',\n",
       "   '/home/wendeldr/git/spacetimeformer/spacetimeformer/data/STF_LOG_DIR/E_S1_1_m1_16cc5414/E_S1_1_m1epoch=49.ckpt'],\n",
       "  '0': ['/home/wendeldr/git/spacetimeformer/spacetimeformer/data/STF_LOG_DIR/E_S1_m0_3d912860/E_S1_m0epoch=26.ckpt',\n",
       "   '/home/wendeldr/git/spacetimeformer/spacetimeformer/data/STF_LOG_DIR/E_S1_1_m0_aa002d84/E_S1_1_m0epoch=16.ckpt'],\n",
       "  '0.1': ['/home/wendeldr/git/spacetimeformer/spacetimeformer/data/STF_LOG_DIR/E_S1_1_m0.1_d48a5532/E_S1_1_m0.1epoch=49.ckpt']},\n",
       " 'G': {'0.0001': ['/home/wendeldr/git/spacetimeformer/spacetimeformer/data/STF_LOG_DIR/G_S1_m0.0001_4580efa4/G_S1_m0.0001epoch=17.ckpt',\n",
       "   '/home/wendeldr/git/spacetimeformer/spacetimeformer/data/STF_LOG_DIR/G_S1_1_m0.0001_54e6f5c0/G_S1_1_m0.0001epoch=18.ckpt',\n",
       "   '/home/wendeldr/git/spacetimeformer/spacetimeformer/data/STF_LOG_DIR/G_S1_1_m0.0001_3bb9deb8/G_S1_1_m0.0001epoch=17.ckpt'],\n",
       "  '0.1': ['/home/wendeldr/git/spacetimeformer/spacetimeformer/data/STF_LOG_DIR/G_S1_1_m0.1_4b79fc30/G_S1_1_m0.1epoch=18.ckpt'],\n",
       "  '1': ['/home/wendeldr/git/spacetimeformer/spacetimeformer/data/STF_LOG_DIR/G_S1_1_m1_fb7c3c24/G_S1_1_m1epoch=18.ckpt',\n",
       "   '/home/wendeldr/git/spacetimeformer/spacetimeformer/data/STF_LOG_DIR/G_S1_m1_0d4a766e/G_S1_m1epoch=16.ckpt'],\n",
       "  '0': ['/home/wendeldr/git/spacetimeformer/spacetimeformer/data/STF_LOG_DIR/G_S1_1_m0_83a02152/G_S1_1_m0epoch=19.ckpt',\n",
       "   '/home/wendeldr/git/spacetimeformer/spacetimeformer/data/STF_LOG_DIR/G_S1_m0_8d469952/G_S1_m0epoch=19.ckpt']},\n",
       " 'H': {'0': ['/home/wendeldr/git/spacetimeformer/spacetimeformer/data/STF_LOG_DIR/H_S1_m0_b57026de/H_S1_m0epoch=19.ckpt',\n",
       "   '/home/wendeldr/git/spacetimeformer/spacetimeformer/data/STF_LOG_DIR/H_S1_1_m0_fe28b934/H_S1_1_m0epoch=25.ckpt',\n",
       "   '/home/wendeldr/git/spacetimeformer/spacetimeformer/data/STF_LOG_DIR/H_S1_2_m0_3f464a04/H_S1_2_m0epoch=27.ckpt']},\n",
       " 'F': {'0': ['/home/wendeldr/git/spacetimeformer/spacetimeformer/data/STF_LOG_DIR/F_S1_2_m0_b851c36e/F_S1_2_m0epoch=24.ckpt',\n",
       "   '/home/wendeldr/git/spacetimeformer/spacetimeformer/data/STF_LOG_DIR/F_S1_1_m0_b82d547a/F_S1_1_m0epoch=27.ckpt',\n",
       "   '/home/wendeldr/git/spacetimeformer/spacetimeformer/data/STF_LOG_DIR/F_S1_m0_b83f66ec/F_S1_m0epoch=19.ckpt']},\n",
       " 'X': {'0': ['/home/wendeldr/git/spacetimeformer/spacetimeformer/data/STF_LOG_DIR/X_S1_2_m0_61d9c40a/X_S1_2_m0epoch=09.ckpt',\n",
       "   '/home/wendeldr/git/spacetimeformer/spacetimeformer/data/STF_LOG_DIR/X_S1_1_m0_61e4a168/X_S1_1_m0epoch=07.ckpt',\n",
       "   '/home/wendeldr/git/spacetimeformer/spacetimeformer/data/STF_LOG_DIR/X_S1_m0_61d78870/X_S1_m0epoch=09.ckpt']},\n",
       " 'A': {'0': ['/home/wendeldr/git/spacetimeformer/spacetimeformer/data/STF_LOG_DIR/A_S1_2_m0_3d9558e0/A_S1_2_m0epoch=26.ckpt',\n",
       "   '/home/wendeldr/git/spacetimeformer/spacetimeformer/data/STF_LOG_DIR/A_S1_m0_3d77db44/A_S1_m0epoch=21.ckpt',\n",
       "   '/home/wendeldr/git/spacetimeformer/spacetimeformer/data/STF_LOG_DIR/A_S1_1_m0_3dbdf3d6/A_S1_1_m0epoch=21.ckpt']},\n",
       " 'R': {'0.0001': ['/home/wendeldr/git/spacetimeformer/spacetimeformer/data/STF_LOG_DIR/S1_m0.0001_dcb57f54/S1_m0.0001epoch=04.ckpt',\n",
       "   '/home/wendeldr/git/spacetimeformer/spacetimeformer/data/STF_LOG_DIR/S1_1_m0.0001_dcf4ba8e/S1_1_m0.0001epoch=04.ckpt',\n",
       "   '/home/wendeldr/git/spacetimeformer/spacetimeformer/data/STF_LOG_DIR/S1_1_m0.0001_ad43a356/S1_1_m0.0001epoch=06.ckpt'],\n",
       "  '0': ['/home/wendeldr/git/spacetimeformer/spacetimeformer/data/STF_LOG_DIR/S1_1_m0_ad394032/S1_1_m0epoch=04.ckpt',\n",
       "   '/home/wendeldr/git/spacetimeformer/spacetimeformer/data/STF_LOG_DIR/S1_m0_ad33d66a/S1_m0epoch=05.ckpt'],\n",
       "  '1': ['/home/wendeldr/git/spacetimeformer/spacetimeformer/data/STF_LOG_DIR/S1_1_431b1602/S1_1epoch=04.ckpt',\n",
       "   '/home/wendeldr/git/spacetimeformer/spacetimeformer/data/STF_LOG_DIR/S1_e9ab54c4/S1epoch=09.ckpt',\n",
       "   '/home/wendeldr/git/spacetimeformer/spacetimeformer/data/STF_LOG_DIR/S1_1_m1_dd3b1d62/S1_1_m1epoch=06.ckpt',\n",
       "   '/home/wendeldr/git/spacetimeformer/spacetimeformer/data/STF_LOG_DIR/S1_m1_d6bb1f8c/S1_m1epoch=05.ckpt'],\n",
       "  '0.1': ['/home/wendeldr/git/spacetimeformer/spacetimeformer/data/STF_LOG_DIR/S1_1_m0.1_ad42c800/S1_1_m0.1epoch=06.ckpt']}}"
      ]
     },
     "execution_count": 6,
     "metadata": {},
     "output_type": "execute_result"
    }
   ],
   "source": [
    "subgroups"
   ]
  },
  {
   "cell_type": "code",
   "execution_count": 7,
   "metadata": {},
   "outputs": [
    {
     "name": "stdout",
     "output_type": "stream",
     "text": [
      "dict_keys(['C', 'D', 'B', 'E', 'G', 'H', 'F', 'X', 'A', 'R'])\n"
     ]
    }
   ],
   "source": [
    "print(subgroups.keys())"
   ]
  },
  {
   "cell_type": "code",
   "execution_count": 8,
   "metadata": {},
   "outputs": [],
   "source": [
    "data_module = s1_data(default_config)\n",
    "model = create_model(default_config, 3, 5, 5)\n",
    "model.set_inv_scaler(data_module.dataset_kwargs['csv_time_series'].reverse_scaling)\n",
    "model.set_scaler(data_module.dataset_kwargs['csv_time_series'].apply_scaling)\n",
    "model.set_null_value(None)"
   ]
  },
  {
   "cell_type": "code",
   "execution_count": 9,
   "metadata": {},
   "outputs": [],
   "source": [
    "output_basepath = \"/home/wendeldr/dump\""
   ]
  },
  {
   "cell_type": "code",
   "execution_count": 10,
   "metadata": {},
   "outputs": [
    {
     "data": {
      "application/vnd.jupyter.widget-view+json": {
       "model_id": "4e7654a678784f0e961fa5fc06e7ce3a",
       "version_major": 2,
       "version_minor": 0
      },
      "text/plain": [
       "Groups:   0%|          | 0/10 [00:00<?, ?it/s]"
      ]
     },
     "metadata": {},
     "output_type": "display_data"
    },
    {
     "data": {
      "application/vnd.jupyter.widget-view+json": {
       "model_id": "e345ea1cc10c44068efe5434b7c0b0df",
       "version_major": 2,
       "version_minor": 0
      },
      "text/plain": [
       "Subgroups in C:   0%|          | 0/1 [00:00<?, ?it/s]"
      ]
     },
     "metadata": {},
     "output_type": "display_data"
    },
    {
     "data": {
      "application/vnd.jupyter.widget-view+json": {
       "model_id": "e574143aec1c4ce3b5a055e16c55f041",
       "version_major": 2,
       "version_minor": 0
      },
      "text/plain": [
       "Files in m=0 of C:   0%|          | 0/3 [00:00<?, ?it/s]"
      ]
     },
     "metadata": {},
     "output_type": "display_data"
    },
    {
     "data": {
      "application/vnd.jupyter.widget-view+json": {
       "model_id": "359a1c98c22741f2a9954151f2298115",
       "version_major": 2,
       "version_minor": 0
      },
      "text/plain": [
       "Subgroups in D:   0%|          | 0/1 [00:00<?, ?it/s]"
      ]
     },
     "metadata": {},
     "output_type": "display_data"
    },
    {
     "data": {
      "application/vnd.jupyter.widget-view+json": {
       "model_id": "28e2a44a47d64818a5570caf38b59ec1",
       "version_major": 2,
       "version_minor": 0
      },
      "text/plain": [
       "Files in m=0 of D:   0%|          | 0/5 [00:00<?, ?it/s]"
      ]
     },
     "metadata": {},
     "output_type": "display_data"
    },
    {
     "data": {
      "application/vnd.jupyter.widget-view+json": {
       "model_id": "81b8d943b13640f2a39536fb71a80775",
       "version_major": 2,
       "version_minor": 0
      },
      "text/plain": [
       "Subgroups in B:   0%|          | 0/1 [00:00<?, ?it/s]"
      ]
     },
     "metadata": {},
     "output_type": "display_data"
    },
    {
     "data": {
      "application/vnd.jupyter.widget-view+json": {
       "model_id": "e6df103ad86f46eab7814be907d4f845",
       "version_major": 2,
       "version_minor": 0
      },
      "text/plain": [
       "Files in m=0 of B:   0%|          | 0/3 [00:00<?, ?it/s]"
      ]
     },
     "metadata": {},
     "output_type": "display_data"
    },
    {
     "data": {
      "application/vnd.jupyter.widget-view+json": {
       "model_id": "000981bddb0847ff9dbba096791a61dd",
       "version_major": 2,
       "version_minor": 0
      },
      "text/plain": [
       "Subgroups in E:   0%|          | 0/4 [00:00<?, ?it/s]"
      ]
     },
     "metadata": {},
     "output_type": "display_data"
    },
    {
     "data": {
      "application/vnd.jupyter.widget-view+json": {
       "model_id": "6825364d7f1344dfadce32b3ebad13c5",
       "version_major": 2,
       "version_minor": 0
      },
      "text/plain": [
       "Files in m=0.0001 of E:   0%|          | 0/3 [00:00<?, ?it/s]"
      ]
     },
     "metadata": {},
     "output_type": "display_data"
    },
    {
     "data": {
      "application/vnd.jupyter.widget-view+json": {
       "model_id": "fce0382f1bd040e4b74966fb5d9456a2",
       "version_major": 2,
       "version_minor": 0
      },
      "text/plain": [
       "Files in m=1 of E:   0%|          | 0/2 [00:00<?, ?it/s]"
      ]
     },
     "metadata": {},
     "output_type": "display_data"
    },
    {
     "data": {
      "application/vnd.jupyter.widget-view+json": {
       "model_id": "871d78a1ed604d7489b16dce5d4b11bc",
       "version_major": 2,
       "version_minor": 0
      },
      "text/plain": [
       "Files in m=0 of E:   0%|          | 0/2 [00:00<?, ?it/s]"
      ]
     },
     "metadata": {},
     "output_type": "display_data"
    },
    {
     "data": {
      "application/vnd.jupyter.widget-view+json": {
       "model_id": "7c3db8419f7d41b8852e2c5fdaec80f6",
       "version_major": 2,
       "version_minor": 0
      },
      "text/plain": [
       "Files in m=0.1 of E:   0%|          | 0/1 [00:00<?, ?it/s]"
      ]
     },
     "metadata": {},
     "output_type": "display_data"
    },
    {
     "data": {
      "application/vnd.jupyter.widget-view+json": {
       "model_id": "fa0800b3113746909088d862a1908c30",
       "version_major": 2,
       "version_minor": 0
      },
      "text/plain": [
       "Subgroups in G:   0%|          | 0/4 [00:00<?, ?it/s]"
      ]
     },
     "metadata": {},
     "output_type": "display_data"
    },
    {
     "data": {
      "application/vnd.jupyter.widget-view+json": {
       "model_id": "1d1100336e5b4c1f8b32a7470d7eb678",
       "version_major": 2,
       "version_minor": 0
      },
      "text/plain": [
       "Files in m=0.0001 of G:   0%|          | 0/3 [00:00<?, ?it/s]"
      ]
     },
     "metadata": {},
     "output_type": "display_data"
    },
    {
     "data": {
      "application/vnd.jupyter.widget-view+json": {
       "model_id": "2ccac93e3b154c26bf90e9f7d756af06",
       "version_major": 2,
       "version_minor": 0
      },
      "text/plain": [
       "Files in m=0.1 of G:   0%|          | 0/1 [00:00<?, ?it/s]"
      ]
     },
     "metadata": {},
     "output_type": "display_data"
    },
    {
     "data": {
      "application/vnd.jupyter.widget-view+json": {
       "model_id": "21c5942fb7c74bcba60e39419b32dfe0",
       "version_major": 2,
       "version_minor": 0
      },
      "text/plain": [
       "Files in m=1 of G:   0%|          | 0/2 [00:00<?, ?it/s]"
      ]
     },
     "metadata": {},
     "output_type": "display_data"
    },
    {
     "data": {
      "application/vnd.jupyter.widget-view+json": {
       "model_id": "54b9e7f1acb042eb9260cb145a6c4e9f",
       "version_major": 2,
       "version_minor": 0
      },
      "text/plain": [
       "Files in m=0 of G:   0%|          | 0/2 [00:00<?, ?it/s]"
      ]
     },
     "metadata": {},
     "output_type": "display_data"
    },
    {
     "data": {
      "application/vnd.jupyter.widget-view+json": {
       "model_id": "7f2f25aaa6554949b11744f670d84ba0",
       "version_major": 2,
       "version_minor": 0
      },
      "text/plain": [
       "Subgroups in H:   0%|          | 0/1 [00:00<?, ?it/s]"
      ]
     },
     "metadata": {},
     "output_type": "display_data"
    },
    {
     "data": {
      "application/vnd.jupyter.widget-view+json": {
       "model_id": "9d71ede8f6b24665958906618e07839a",
       "version_major": 2,
       "version_minor": 0
      },
      "text/plain": [
       "Files in m=0 of H:   0%|          | 0/3 [00:00<?, ?it/s]"
      ]
     },
     "metadata": {},
     "output_type": "display_data"
    },
    {
     "data": {
      "application/vnd.jupyter.widget-view+json": {
       "model_id": "5780e44bbf314f0f84cb76f4dcbaf39e",
       "version_major": 2,
       "version_minor": 0
      },
      "text/plain": [
       "Subgroups in F:   0%|          | 0/1 [00:00<?, ?it/s]"
      ]
     },
     "metadata": {},
     "output_type": "display_data"
    },
    {
     "data": {
      "application/vnd.jupyter.widget-view+json": {
       "model_id": "112264c6802545659ab84c3b9c70b2d9",
       "version_major": 2,
       "version_minor": 0
      },
      "text/plain": [
       "Files in m=0 of F:   0%|          | 0/3 [00:00<?, ?it/s]"
      ]
     },
     "metadata": {},
     "output_type": "display_data"
    },
    {
     "data": {
      "application/vnd.jupyter.widget-view+json": {
       "model_id": "c9e3dc15635b4d3da4c21bfb92e1bd69",
       "version_major": 2,
       "version_minor": 0
      },
      "text/plain": [
       "Subgroups in X:   0%|          | 0/1 [00:00<?, ?it/s]"
      ]
     },
     "metadata": {},
     "output_type": "display_data"
    },
    {
     "data": {
      "application/vnd.jupyter.widget-view+json": {
       "model_id": "41b31073ff4b4a41a7ef623426f94862",
       "version_major": 2,
       "version_minor": 0
      },
      "text/plain": [
       "Files in m=0 of X:   0%|          | 0/3 [00:00<?, ?it/s]"
      ]
     },
     "metadata": {},
     "output_type": "display_data"
    },
    {
     "data": {
      "application/vnd.jupyter.widget-view+json": {
       "model_id": "534131ee51d24355b34fd565f8ae76e2",
       "version_major": 2,
       "version_minor": 0
      },
      "text/plain": [
       "Subgroups in A:   0%|          | 0/1 [00:00<?, ?it/s]"
      ]
     },
     "metadata": {},
     "output_type": "display_data"
    },
    {
     "data": {
      "application/vnd.jupyter.widget-view+json": {
       "model_id": "db62f393c41f443ba497896c15958262",
       "version_major": 2,
       "version_minor": 0
      },
      "text/plain": [
       "Files in m=0 of A:   0%|          | 0/3 [00:00<?, ?it/s]"
      ]
     },
     "metadata": {},
     "output_type": "display_data"
    },
    {
     "data": {
      "application/vnd.jupyter.widget-view+json": {
       "model_id": "b89931ac014c4c54ae35e75e9a60aee0",
       "version_major": 2,
       "version_minor": 0
      },
      "text/plain": [
       "Subgroups in R:   0%|          | 0/4 [00:00<?, ?it/s]"
      ]
     },
     "metadata": {},
     "output_type": "display_data"
    },
    {
     "data": {
      "application/vnd.jupyter.widget-view+json": {
       "model_id": "b7f6d54e691844e08959e3f323683d42",
       "version_major": 2,
       "version_minor": 0
      },
      "text/plain": [
       "Files in m=0.0001 of R:   0%|          | 0/3 [00:00<?, ?it/s]"
      ]
     },
     "metadata": {},
     "output_type": "display_data"
    },
    {
     "data": {
      "application/vnd.jupyter.widget-view+json": {
       "model_id": "b2c4ae60b93e46f68ad82280bdb064ad",
       "version_major": 2,
       "version_minor": 0
      },
      "text/plain": [
       "Files in m=0 of R:   0%|          | 0/2 [00:00<?, ?it/s]"
      ]
     },
     "metadata": {},
     "output_type": "display_data"
    },
    {
     "data": {
      "application/vnd.jupyter.widget-view+json": {
       "model_id": "3f097e71fddf4febb902bbdb89292b16",
       "version_major": 2,
       "version_minor": 0
      },
      "text/plain": [
       "Files in m=1 of R:   0%|          | 0/4 [00:00<?, ?it/s]"
      ]
     },
     "metadata": {},
     "output_type": "display_data"
    },
    {
     "data": {
      "application/vnd.jupyter.widget-view+json": {
       "model_id": "95fc86754268486e9ac4122761a73f32",
       "version_major": 2,
       "version_minor": 0
      },
      "text/plain": [
       "Files in m=0.1 of R:   0%|          | 0/1 [00:00<?, ?it/s]"
      ]
     },
     "metadata": {},
     "output_type": "display_data"
    }
   ],
   "source": [
    "attn_mse = {}\n",
    "# Loop through each group and its subgroups with tqdm for progress tracking\n",
    "for group, filenames in tqdm(subgroups.items(), desc='Groups'):\n",
    "    # skip L\n",
    "    if group == \"L\":\n",
    "        continue\n",
    "    for m_value, files in tqdm(filenames.items(), desc=f'Subgroups in {group}'):\n",
    "        for file in tqdm(files, desc=f'Files in m={m_value} of {group}'):\n",
    "            use_autoregressive = False\n",
    "            fdata = False\n",
    "            if group in ['A', 'B', 'C', 'D', 'E']:\n",
    "                use_autoregressive = True\n",
    "            if group in [\"F\"]:\n",
    "                fdata = True\n",
    "\n",
    "            # Assuming `run` is a function that takes a file, a model, and an output_basepath\n",
    "            # and returns attention matrices and MSE\n",
    "            try:\n",
    "                attn, mse = run(file, model, output_basepath,use_autoregressive,fdata)\n",
    "                attn_mse[file] = (attn, mse)\n",
    "            except Exception as e:\n",
    "                print(e)\n",
    "                print(f\"Error in {file}\")\n",
    "                continue\n"
   ]
  },
  {
   "cell_type": "code",
   "execution_count": null,
   "metadata": {},
   "outputs": [],
   "source": []
  },
  {
   "cell_type": "code",
   "execution_count": 15,
   "metadata": {},
   "outputs": [],
   "source": [
    "# reorder attn_mse to be same structure/order of subgroups. Key of attn_mse is the filename/value of subgroups\n",
    "attn_mse_ordered = {}\n",
    "for group, filenames in subgroups.items():\n",
    "    if group not in attn_mse_ordered:\n",
    "        attn_mse_ordered[group] = {}\n",
    "    for m_value, files in filenames.items():\n",
    "        if m_value not in attn_mse_ordered[group]:\n",
    "            attn_mse_ordered[group][m_value] = {}\n",
    "        for file in files:\n",
    "            try:\n",
    "                attn_mse_ordered[group][m_value][file] = attn_mse[file]\n",
    "            except:\n",
    "                continue"
   ]
  },
  {
   "cell_type": "code",
   "execution_count": 16,
   "metadata": {},
   "outputs": [
    {
     "data": {
      "text/plain": [
       "dict_keys(['C', 'D', 'B', 'E', 'G', 'H', 'F', 'X', 'A', 'R'])"
      ]
     },
     "execution_count": 16,
     "metadata": {},
     "output_type": "execute_result"
    }
   ],
   "source": [
    "attn_mse_ordered.keys()"
   ]
  },
  {
   "cell_type": "code",
   "execution_count": 17,
   "metadata": {},
   "outputs": [
    {
     "data": {
      "text/plain": [
       "dict_keys(['0'])"
      ]
     },
     "execution_count": 17,
     "metadata": {},
     "output_type": "execute_result"
    }
   ],
   "source": [
    "attn_mse_ordered['B'].keys()"
   ]
  },
  {
   "cell_type": "code",
   "execution_count": 18,
   "metadata": {},
   "outputs": [
    {
     "name": "stdout",
     "output_type": "stream",
     "text": [
      "0\n",
      "dict_keys(['/home/wendeldr/git/spacetimeformer/spacetimeformer/data/STF_LOG_DIR/B_S1_m0_4adccd9c/B_S1_m0epoch=03.ckpt', '/home/wendeldr/git/spacetimeformer/spacetimeformer/data/STF_LOG_DIR/B_S1_2_m0_905633d8/B_S1_2_m0epoch=01.ckpt', '/home/wendeldr/git/spacetimeformer/spacetimeformer/data/STF_LOG_DIR/B_S1_1_m0_2e728b88/B_S1_1_m0epoch=01.ckpt'])\n"
     ]
    }
   ],
   "source": [
    "for name, value in attn_mse_ordered['B'].items():\n",
    "    print(name)\n",
    "    print(value.keys())"
   ]
  },
  {
   "cell_type": "code",
   "execution_count": 26,
   "metadata": {},
   "outputs": [
    {
     "data": {
      "image/png": "[encoded data removed]",
      "text/plain": [
       "<Figure size 2000x1000 with 4 Axes>"
      ]
     },
     "metadata": {},
     "output_type": "display_data"
    }
   ],
   "source": [
    "%matplotlib inline\n",
    "\n",
    "attentions = []\n",
    "\n",
    "titles = []\n",
    "for name, value in attn_mse_ordered['H']['0'].items():\n",
    "    # get basename\n",
    "    basename = os.path.basename(name)\n",
    "    basename = basename.replace(\".ckpt\", \"\")\n",
    "    # get the attention matrix\n",
    "    attn = value[0]\n",
    "    # attn = attn[:, 0, :, :].mean(axis=0)\n",
    "    attn = attn[5, 0, :, :]\n",
    "    attentions.append(attn)\n",
    "    titles.append(basename)\n",
    "\n",
    "names = [\"1,2,3,4,5\".split(',')] * len(attentions)\n",
    "combined_plot(attentions, names, titles, 32, same_order=True, plot_size=(20,10), maxval=1);"
   ]
  },
  {
   "cell_type": "code",
   "execution_count": 27,
   "metadata": {},
   "outputs": [],
   "source": [
    "def collapse_to_sumwave(attention, context):\n",
    "    # break into sub chunks and sum across column\n",
    "    chunks = attention.shape[0] // context\n",
    "    sums = []\n",
    "    for X in range(chunks):\n",
    "        for Y in range(chunks):\n",
    "            subset = get_sub_matrices(attention, context, [(X,Y)])[0]\n",
    "            # break into \"waves\"\n",
    "            sums.append(np.sum(subset, axis=0))\n",
    "    return sums"
   ]
  },
  {
   "cell_type": "code",
   "execution_count": 28,
   "metadata": {},
   "outputs": [
    {
     "data": {
      "image/png": "[encoded data removed]",
      "text/plain": [
       "<Figure size 800x800 with 25 Axes>"
      ]
     },
     "metadata": {},
     "output_type": "display_data"
    }
   ],
   "source": [
    "s = collapse_to_sumwave(attentions[0], 32)\n",
    "blocks = int(np.sqrt(len(s)))\n",
    "fig,ax = plt.subplots(blocks,blocks,figsize=(8,8),sharex=True, sharey=True)\n",
    "for x in range(blocks):\n",
    "    for y in range(blocks):\n",
    "        ax[x,y].plot(s[x*blocks+y],'-')\n",
    "        ax[x,y].plot(s[x*blocks+y],'.', color='red', markersize=1.5)\n",
    "        # ax[x,y].set_title(f\"Block {x*blocks+y+1}\")\n",
    "        ax[x,y].set_ylim(0,3)\n",
    "        ax[x,y].set_xticks([])\n",
    "        # ax[x,y].set_yticks([])\n",
    "plt.tight_layout()"
   ]
  },
  {
   "cell_type": "code",
   "execution_count": 29,
   "metadata": {},
   "outputs": [
    {
     "data": {
      "image/png": "[encoded data removed]",
      "text/plain": [
       "<Figure size 800x800 with 25 Axes>"
      ]
     },
     "metadata": {},
     "output_type": "display_data"
    }
   ],
   "source": [
    "s = collapse_to_sumwave(attentions[1], 32)\n",
    "blocks = int(np.sqrt(len(s)))\n",
    "fig,ax = plt.subplots(blocks,blocks,figsize=(8,8),sharex=True, sharey=True)\n",
    "for x in range(blocks):\n",
    "    for y in range(blocks):\n",
    "        ax[x,y].plot(s[x*blocks+y],'-')\n",
    "        ax[x,y].plot(s[x*blocks+y],'.', color='red', markersize=1.5)\n",
    "        # ax[x,y].set_title(f\"Block {x*blocks+y+1}\")\n",
    "        ax[x,y].set_ylim(0,3)\n",
    "        ax[x,y].set_xticks([])\n",
    "        # ax[x,y].set_yticks([])\n",
    "plt.tight_layout()"
   ]
  },
  {
   "cell_type": "code",
   "execution_count": 30,
   "metadata": {},
   "outputs": [
    {
     "data": {
      "image/png": "[encoded data removed]",
      "text/plain": [
       "<Figure size 800x800 with 25 Axes>"
      ]
     },
     "metadata": {},
     "output_type": "display_data"
    }
   ],
   "source": [
    "s = collapse_to_sumwave(attentions[2], 32)\n",
    "blocks = int(np.sqrt(len(s)))\n",
    "fig,ax = plt.subplots(blocks,blocks,figsize=(8,8),sharex=True, sharey=True)\n",
    "for x in range(blocks):\n",
    "    for y in range(blocks):\n",
    "        ax[x,y].plot(s[x*blocks+y],'-')\n",
    "        ax[x,y].plot(s[x*blocks+y],'.', color='red', markersize=1.5)\n",
    "        # ax[x,y].set_title(f\"Block {x*blocks+y+1}\")\n",
    "        ax[x,y].set_ylim(0,32)\n",
    "        ax[x,y].set_xticks([])\n",
    "        # ax[x,y].set_yticks([])\n",
    "plt.tight_layout()"
   ]
  },
  {
   "cell_type": "code",
   "execution_count": 31,
   "metadata": {},
   "outputs": [],
   "source": [
    "# diff = np.square(np.diff(value[0].squeeze(),axis=0)).sum(axis=0)\n",
    "# names = [\"1,2,3,4,5\".split(',')] *2\n",
    "# mean = value[0].squeeze().mean(axis=0)\n",
    "# combined_plot([diff,mean], names, ['diff','mean'], 32, same_order=True, plot_size=(10,5));"
   ]
  },
  {
   "cell_type": "code",
   "execution_count": 38,
   "metadata": {},
   "outputs": [
    {
     "data": {
      "text/plain": [
       "Text(0, 0.5, '1')"
      ]
     },
     "execution_count": 38,
     "metadata": {},
     "output_type": "execute_result"
    },
    {
     "data": {
      "image/png": "[encoded data removed]",
      "text/plain": [
       "<Figure size 1000x1000 with 2 Axes>"
      ]
     },
     "metadata": {},
     "output_type": "display_data"
    }
   ],
   "source": [
    "X = 0\n",
    "Y = 0\n",
    "a = get_sub_matrices(attentions[-1], 32, [(X,Y)])[0]\n",
    "plt.figure(figsize=(10,10))\n",
    "plt.imshow(a, cmap='nipy_spectral', interpolation='none', vmin=0, vmax=.02)\n",
    "plt.colorbar()\n",
    "plt.xlabel(names[0][X])\n",
    "plt.ylabel(names[0][Y])"
   ]
  },
  {
   "cell_type": "code",
   "execution_count": null,
   "metadata": {},
   "outputs": [],
   "source": []
  }
 ],
 "metadata": {
  "kernelspec": {
   "display_name": "stf",
   "language": "python",
   "name": "python3"
  },
  "language_info": {
   "codemirror_mode": {
    "name": "ipython",
    "version": 3
   },
   "file_extension": ".py",
   "mimetype": "text/x-python",
   "name": "python",
   "nbconvert_exporter": "python",
   "pygments_lexer": "ipython3",
   "version": "3.8.0"
  }
 },
 "nbformat": 4,
 "nbformat_minor": 2
}
