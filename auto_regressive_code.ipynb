{
 "cells": [
  {
   "cell_type": "code",
   "execution_count": 1,
   "metadata": {},
   "outputs": [],
   "source": [
    "import numpy as np"
   ]
  },
  {
   "cell_type": "code",
   "execution_count": 2,
   "metadata": {},
   "outputs": [],
   "source": [
    "# desired correlation matrix\n",
    "cor_matrix = np.array([[1.0, 0.8],\n",
    "                       [0.8, 1.0]])\n",
    "\n",
    "L = np.linalg.cholesky(cor_matrix)"
   ]
  },
  {
   "cell_type": "code",
   "execution_count": null,
   "metadata": {},
   "outputs": [],
   "source": []
  },
  {
   "cell_type": "code",
   "execution_count": 3,
   "metadata": {},
   "outputs": [],
   "source": [
    "import numpy as np\n",
    "import scipy.linalg\n",
    "\n",
    "def var_to_tsdata(A, SIG, m, N=1, mtrunc=None, decayfac=100):\n",
    "    def genvar(A, E, trunc=0):\n",
    "        n1, n2, p = A.shape\n",
    "        n, m = E.shape\n",
    "        assert n1 == n2 and n1 == n, 'VAR coefficients blocks not square or do not match residuals covariance matrix size'\n",
    "        assert trunc >= 0 and trunc < m, 'bad truncation'\n",
    "\n",
    "        X = E.copy()\n",
    "        for t in range(p, m):\n",
    "            for k in range(1, p+1):\n",
    "                X[:, t] += A[:, :, k-1] @ X[:, t-k]\n",
    "\n",
    "        if trunc > 0:\n",
    "            X = X[:, trunc:]\n",
    "            E = E[:, trunc:]\n",
    "\n",
    "        return X, E\n",
    "\n",
    "    if mtrunc is None:\n",
    "        rho = max(abs(np.linalg.eig(A)[0]))\n",
    "        assert rho < 1, 'unstable VAR'\n",
    "        mtrunc = int(round((np.log(np.finfo(float).eps) - decayfac) / np.log(rho)))\n",
    "\n",
    "    C = scipy.linalg.cholesky(SIG, lower=True)\n",
    "    n = A.shape[0]\n",
    "\n",
    "    if N > 1:\n",
    "        X = np.zeros((n, m, N))\n",
    "        E = np.zeros((n, m, N))\n",
    "        for r in range(N):\n",
    "            X[:, :, r], E[:, :, r] = genvar(A, C @ np.random.randn(n, m + mtrunc), mtrunc)\n",
    "    else:\n",
    "        X, E = genvar(A, C @ np.random.randn(n, m + mtrunc), mtrunc)\n",
    "\n",
    "    return X, E, mtrunc\n",
    "\n",
    "\n",
    "# #VAR coefficients matrix\n",
    "# A = np.array([[[1,0,1],[0,1,0]],[[.5,0,.5],[0,.1,0]]])\n",
    "# #residuals covariance matrix. use identity matrix, same shape as a, for white noise\n",
    "# SIG = np.eye(A.shape[0])\n",
    "# sampling_rate = 2048\n",
    "# m = sampling_rate * 4 # in sec\n",
    "# N = 1\n",
    "# mtrunc = sampling_rate\n",
    "# decayfac = 100\n",
    "\n",
    "# X, E, mtrunc = var_to_tsdata(A, SIG, m, N, mtrunc, decayfac)"
   ]
  },
  {
   "cell_type": "code",
   "execution_count": 4,
   "metadata": {},
   "outputs": [],
   "source": [
    "# #VAR coefficients matrix\n",
    "# A = np.array([[[1,0,1],[0,1,0]],[[.5,0,.5],[0,.1,0]]])\n",
    "# #residuals covariance matrix. use identity matrix, same shape as a, for white noise\n",
    "# SIG = np.eye(A.shape[0])\n",
    "# sampling_rate = 2048\n",
    "# m = sampling_rate * 4 # in sec\n",
    "# N = 1\n",
    "# mtrunc = sampling_rate\n",
    "# decayfac = 100\n",
    "\n",
    "# X, E, mtrunc = var_to_tsdata(A, SIG, m, N, mtrunc, decayfac)"
   ]
  },
  {
   "cell_type": "code",
   "execution_count": 5,
   "metadata": {},
   "outputs": [],
   "source": [
    "# E"
   ]
  },
  {
   "cell_type": "code",
   "execution_count": 6,
   "metadata": {},
   "outputs": [],
   "source": [
    "import matplotlib.pyplot as plt\n",
    "# plt.plot(X.T)"
   ]
  },
  {
   "cell_type": "code",
   "execution_count": 7,
   "metadata": {},
   "outputs": [],
   "source": [
    "fs = 2048  # Sampling rate (Hz)\n",
    "T = 150  # Length of epochs (s)\n",
    "\n",
    "import numpy as np\n",
    "from scipy.stats import chi2, norm\n",
    "import math\n",
    "\n",
    "# Set the seed for reproducibility\n",
    "np.random.seed(0)\n",
    "\n",
    "# Define the number of iterations for the simulation\n",
    "n_iterations = fs*T\n",
    "\n",
    "# Preallocate the arrays for the x variables\n",
    "x1 = np.zeros(n_iterations)\n",
    "x2 = np.zeros(n_iterations)\n",
    "x3 = np.zeros(n_iterations)\n",
    "x4 = np.zeros(n_iterations)\n",
    "x5 = np.zeros(n_iterations)\n",
    "\n",
    "# Define the rate lambda for the exponential distribution\n",
    "lambda_rate = 2\n",
    "\n",
    "# Generate the noise processes e1t, e2t, e3t, e4t, e5t\n",
    "e1 = np.random.exponential(scale=1 / lambda_rate, size=n_iterations)\n",
    "e2 = chi2.rvs(df=1, size=n_iterations)\n",
    "e3 = norm.rvs(scale=1, size=n_iterations)  # Gaussian with mean 0, std 1\n",
    "e4 = norm.rvs(scale=1, size=n_iterations)  # Gaussian with mean 0, std 1\n",
    "e5 = norm.rvs(scale=1, size=n_iterations)  # Gaussian with mean 0, std 1\n",
    "\n",
    "for t in range(1, n_iterations):\n",
    "    # Generate the x variables based on the given equations\n",
    "    x1[t] = e1[t]\n",
    "    x2[t] = e2[t]\n",
    "    x3[t] = 0.8 * x2[t] + e3[t]\n",
    "    x4[t] = 0.7 * x1[t] * (math.pow(x1[t],2) - 1) * np.exp((-math.pow(x1[t],2)) / 2) + e4[t]\n",
    "    x5[t] = 0.3 * x2[t] + 0.05 * math.pow(x2[t],2) + e5[t]\n",
    "\n",
    "# After the loop, x1t, x2t, x3t, x4t, and x5t contain the simulation data.\n",
    "\n",
    "PLOT_VAR_NAMES = np.arange(5) + 1\n",
    "PLOT_VAR_IDXS = np.arange(5)\n",
    "\n",
    "data = np.array([x1, x2, x3, x4, x5]).T"
   ]
  },
  {
   "cell_type": "code",
   "execution_count": 8,
   "metadata": {},
   "outputs": [
    {
     "data": {
      "text/plain": [
       "array([ 0.62796538,  0.02411127, -0.30792015, -0.32738685, -0.02491688])"
      ]
     },
     "execution_count": 8,
     "metadata": {},
     "output_type": "execute_result"
    }
   ],
   "source": [
    "data[1]"
   ]
  },
  {
   "cell_type": "code",
   "execution_count": 9,
   "metadata": {},
   "outputs": [
    {
     "data": {
      "text/plain": [
       "array([0.0096291 , 2.54564524, 2.69902039, 1.07702047, 1.73119984])"
      ]
     },
     "execution_count": 9,
     "metadata": {},
     "output_type": "execute_result"
    }
   ],
   "source": [
    "data[-1]"
   ]
  }
 ],
 "metadata": {
  "kernelspec": {
   "display_name": "stf",
   "language": "python",
   "name": "python3"
  },
  "language_info": {
   "codemirror_mode": {
    "name": "ipython",
    "version": 3
   },
   "file_extension": ".py",
   "mimetype": "text/x-python",
   "name": "python",
   "nbconvert_exporter": "python",
   "pygments_lexer": "ipython3",
   "version": "3.8.18"
  }
 },
 "nbformat": 4,
 "nbformat_minor": 2
}
