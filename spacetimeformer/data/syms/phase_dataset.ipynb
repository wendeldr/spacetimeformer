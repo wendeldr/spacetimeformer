{
 "cells": [
  {
   "cell_type": "code",
   "execution_count": null,
   "id": "initial_id",
   "metadata": {
    "collapsed": true,
    "is_executing": true
   },
   "outputs": [],
   "source": [
    "import matplotlib.pyplot as plt\n",
    "import numpy as np\n",
    "import mne_connectivity"
   ]
  },
  {
   "cell_type": "code",
   "execution_count": null,
   "metadata": {
    "is_executing": true
   },
   "outputs": [],
   "source": [
    "N = 5\n",
    "sf = 2048\n",
    "len_sec = 5\n",
    "waves = []\n",
    "for x in range(N):\n",
    "    waves.append(np.random.rand(len_sec * sf))\n",
    "\n",
    "waves = np.array(waves)\n",
    "plt.plot(waves.T)"
   ],
   "id": "615fc8052e1b75c4"
  },
  {
   "cell_type": "code",
   "execution_count": null,
   "metadata": {
    "is_executing": true
   },
   "outputs": [],
   "source": [
    "# filter waves to high frequency\n",
    "from scipy.signal import butter, filtfilt\n",
    "\n",
    "bandwidth = 3\n",
    "H = 100    # Center frequency for bandpass\n",
    "bandwidth = 20  # Bandwidth for bandpass\n",
    "\n",
    "# Design bandpass filter\n",
    "lowcut = H - bandwidth / 2\n",
    "highcut = H + bandwidth / 2\n",
    "b, a = butter(N=2, Wn=[lowcut, highcut], btype='band', fs=sf)\n",
    "\n",
    "# Apply bandpass filter to data\n",
    "data = []\n",
    "for x in range(N):\n",
    "    data.append(filtfilt(b, a, waves[x]))\n",
    "\n",
    "data = np.array(data)\n",
    "plt.plot(data.T)"
   ],
   "id": "e551d0545377c6f1"
  },
  {
   "cell_type": "code",
   "execution_count": null,
   "metadata": {
    "is_executing": true
   },
   "outputs": [],
   "source": [
    "from scipy.signal import spectrogram\n",
    "random_waveform = data[0]\n",
    "\n",
    "# Compute the spectrogram for both the original and filtered waveforms\n",
    "frequencies_original, times_original, Sxx_original = spectrogram(random_waveform, sf)\n",
    "# Plot the spectrogram for the original waveform\n",
    "plt.figure(figsize=(12, 8))\n",
    "plt.subplot(2, 1, 1)\n",
    "plt.pcolormesh(times_original, frequencies_original, 10 * np.log10(Sxx_original), shading='gouraud')\n",
    "plt.colorbar(label='Intensity [dB]')\n",
    "plt.title('Spectrogram of Original Random Waveform')\n",
    "plt.ylabel('Frequency [Hz]')\n",
    "plt.xlabel('Time [s]')"
   ],
   "id": "a61f170944312f39"
  },
  {
   "cell_type": "code",
   "execution_count": null,
   "metadata": {
    "is_executing": true
   },
   "outputs": [],
   "source": [
    "N = 5\n",
    "sf = 2048\n",
    "len_sec = 5\n",
    "waves = []\n",
    "for x in range(N):\n",
    "    waves.append(np.random.rand(len_sec * sf))\n",
    "\n",
    "waves = np.array(waves)\n",
    "plt.plot(waves.T)\n",
    "\n",
    "# filter waves to high frequency\n",
    "from scipy.signal import butter, filtfilt\n",
    "\n",
    "bandwidth = 3\n",
    "H = 100    # Center frequency for bandpass\n",
    "bandwidth = 20  # Bandwidth for bandpass\n",
    "\n",
    "# Design bandpass filter\n",
    "lowcut = H - bandwidth / 2\n",
    "highcut = H + bandwidth / 2\n",
    "b, a = butter(N=2, Wn=[lowcut, highcut], btype='band', fs=sf)\n",
    "\n",
    "# Apply bandpass filter to data\n",
    "data = []\n",
    "for x in range(N):\n",
    "    data.append(filtfilt(b, a, waves[x]))"
   ],
   "id": "1cbe3fc230fc2892"
  }
 ],
 "metadata": {
  "kernelspec": {
   "display_name": "Python 3",
   "language": "python",
   "name": "python3"
  },
  "language_info": {
   "codemirror_mode": {
    "name": "ipython",
    "version": 3
   },
   "file_extension": ".py",
   "mimetype": "text/x-python",
   "name": "python",
   "nbconvert_exporter": "python",
   "pygments_lexer": "ipython3",
   "version": "3.8.18"
  }
 },
 "nbformat": 4,
 "nbformat_minor": 5
}
