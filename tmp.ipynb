{
 "cells": [
  {
   "cell_type": "code",
   "execution_count": 8,
   "id": "initial_id",
   "metadata": {
    "ExecuteTime": {
     "end_time": "2024-01-31T18:03:29.569124132Z",
     "start_time": "2024-01-31T18:03:29.179343600Z"
    },
    "collapsed": true
   },
   "outputs": [],
   "source": [
    "import numpy as np\n",
    "from scipy.stats import chi2, norm, beta, gamma\n",
    "import math\n",
    "import matplotlib.pyplot as plt"
   ]
  },
  {
   "cell_type": "code",
   "execution_count": 2,
   "id": "90768870391ff4aa",
   "metadata": {
    "ExecuteTime": {
     "end_time": "2024-01-31T18:03:32.792676056Z",
     "start_time": "2024-01-31T18:03:29.610922412Z"
    }
   },
   "outputs": [],
   "source": [
    "fs = 2048  # Sampling rate (Hz)\n",
    "T = 300  # Length of epochs (s)\n",
    "\n",
    "# Set the seed for reproducibility\n",
    "np.random.seed(0)\n",
    "\n",
    "# Define the number of iterations for the simulation\n",
    "n_iterations = fs * T\n",
    "\n",
    "# Preallocate the arrays for the x variables\n",
    "x1 = np.zeros(n_iterations)\n",
    "x2 = np.zeros(n_iterations)\n",
    "x3 = np.zeros(n_iterations)\n",
    "x4 = np.zeros(n_iterations)\n",
    "x5 = np.zeros(n_iterations)\n",
    "\n",
    "# Define the rate lambda for the exponential distribution\n",
    "lambda_rate = 2\n",
    "\n",
    "# Generate the noise processes e1t, e2t, e3t, e4t, e5t\n",
    "e1 = np.random.exponential(scale=1 / lambda_rate, size=n_iterations)\n",
    "e2 = chi2.rvs(df=1, size=n_iterations)\n",
    "e3 = norm.rvs(scale=1, size=n_iterations)  # Gaussian with mean 0, std 1\n",
    "e4 = norm.rvs(scale=1, size=n_iterations)  # Gaussian with mean 0, std 1\n",
    "e5 = norm.rvs(scale=1, size=n_iterations)  # Gaussian with mean 0, std 1\n",
    "\n",
    "for t in range(1, n_iterations):\n",
    "    # Generate the x variables based on the given equations\n",
    "    x1[t] = e1[t]\n",
    "    x2[t] = e2[t]\n",
    "    x3[t] = 0.8 * x2[t] + e3[t]\n",
    "    x4[t] = 0.7 * x1[t] * (math.pow(x1[t], 2) - 1) * np.exp((-math.pow(x1[t], 2)) / 2) + e4[t]\n",
    "    x5[t] = 0.3 * x2[t] + 0.05 * math.pow(x2[t], 2) + e5[t]\n",
    "\n",
    "# After the loop, x1t, x2t, x3t, x4t, and x5t contain the simulation data.\n",
    "\n",
    "data = np.array([x1, x2, x3, x4, x5])\n",
    "std = np.std(data,axis=1)\n",
    "mean = np.mean(data,axis=1)\n",
    "\n",
    "norm = (data - mean[:,np.newaxis]) - std[:,np.newaxis]"
   ]
  },
  {
   "cell_type": "code",
   "execution_count": 3,
   "id": "e3927f84d903e561",
   "metadata": {
    "ExecuteTime": {
     "end_time": "2024-01-31T18:03:32.798636860Z",
     "start_time": "2024-01-31T18:03:32.793643816Z"
    }
   },
   "outputs": [],
   "source": [
    "true = norm[:,-2000:]\n",
    "norm_mean = np.mean(norm,axis=1)\n",
    "preds = norm_mean[:,np.newaxis]\n"
   ]
  },
  {
   "cell_type": "code",
   "execution_count": 4,
   "id": "3566db72c013c067",
   "metadata": {
    "ExecuteTime": {
     "end_time": "2024-01-31T18:03:32.803595099Z",
     "start_time": "2024-01-31T18:03:32.800415996Z"
    }
   },
   "outputs": [],
   "source": [
    "mse_frommean = np.power((true - preds),2).sum()"
   ]
  },
  {
   "cell_type": "code",
   "execution_count": 5,
   "id": "69ad612e22f75631",
   "metadata": {
    "ExecuteTime": {
     "end_time": "2024-01-31T18:03:32.811525926Z",
     "start_time": "2024-01-31T18:03:32.808696456Z"
    }
   },
   "outputs": [
    {
     "data": {
      "text/plain": [
       "14357.14581039661"
      ]
     },
     "execution_count": 5,
     "metadata": {},
     "output_type": "execute_result"
    }
   ],
   "source": [
    "mse_frommean"
   ]
  },
  {
   "cell_type": "code",
   "execution_count": 6,
   "id": "c2354f0831a84d44",
   "metadata": {
    "ExecuteTime": {
     "end_time": "2024-01-31T18:03:32.856216762Z",
     "start_time": "2024-01-31T18:03:32.854932922Z"
    }
   },
   "outputs": [
    {
     "data": {
      "text/plain": [
       "29539.75903446554"
      ]
     },
     "execution_count": 6,
     "metadata": {},
     "output_type": "execute_result"
    }
   ],
   "source": [
    "true = norm[:,-2000:]\n",
    "preds = norm[:,-2001:-1]\n",
    "\n",
    "mse_prev = np.power((true - preds),2).sum()\n",
    "mse_prev"
   ]
  },
  {
   "cell_type": "code",
   "execution_count": 7,
   "id": "39a035ea7d957f3b",
   "metadata": {
    "ExecuteTime": {
     "end_time": "2024-01-31T18:03:32.857120101Z",
     "start_time": "2024-01-31T18:03:32.855338471Z"
    }
   },
   "outputs": [
    {
     "name": "stdout",
     "output_type": "stream",
     "text": [
      "[-0.39941244 -2.41746085 -3.43842151 -1.26437457 -1.5669146 ]\n",
      "[-0.27941687 -2.19969634 -2.68717755  0.43265188 -2.82242517]\n"
     ]
    }
   ],
   "source": [
    "i = 1\n",
    "print(true[:,0])\n",
    "print(preds[:,0])"
   ]
  },
  {
   "cell_type": "code",
   "execution_count": null,
   "id": "c5cdd979",
   "metadata": {},
   "outputs": [],
   "source": []
  }
 ],
 "metadata": {
  "kernelspec": {
   "display_name": "Python 3",
   "language": "python",
   "name": "python3"
  },
  "language_info": {
   "codemirror_mode": {
    "name": "ipython",
    "version": 3
   },
   "file_extension": ".py",
   "mimetype": "text/x-python",
   "name": "python",
   "nbconvert_exporter": "python",
   "pygments_lexer": "ipython3",
   "version": "3.8.0"
  }
 },
 "nbformat": 4,
 "nbformat_minor": 5
}
